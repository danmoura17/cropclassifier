{
 "cells": [
  {
   "cell_type": "code",
   "execution_count": 1,
   "metadata": {},
   "outputs": [
    {
     "name": "stderr",
     "output_type": "stream",
     "text": [
      "Using TensorFlow backend.\n"
     ]
    }
   ],
   "source": [
    "import os\n",
    "from keras.models import load_model\n",
    "import numpy as np\n",
    "import pickle\n",
    "import cv2\n",
    "from keras.preprocessing.image import img_to_array\n"
   ]
  },
  {
   "cell_type": "code",
   "execution_count": 2,
   "metadata": {},
   "outputs": [
    {
     "name": "stdout",
     "output_type": "stream",
     "text": [
      "WARNING:tensorflow:Variable *= will be deprecated. Use variable.assign_mul if you want assignment to the variable value or 'x = x * y' if you want a new python Tensor object.\n"
     ]
    }
   ],
   "source": [
    "model = load_model('zoeira.model')\n",
    "lb = pickle.loads(open(\"lb3.pickle\", \"rb\").read())"
   ]
  },
  {
   "cell_type": "code",
   "execution_count": 3,
   "metadata": {},
   "outputs": [
    {
     "name": "stdout",
     "output_type": "stream",
     "text": [
      "['Others', 'Aedes', 'Culex', 'Background']\n"
     ]
    }
   ],
   "source": [
    "os.chdir(r'./Matriz')\n",
    "labels = os.listdir(\".\")\n",
    "print(labels)"
   ]
  },
  {
   "cell_type": "code",
   "execution_count": 4,
   "metadata": {},
   "outputs": [
    {
     "name": "stdout",
     "output_type": "stream",
     "text": [
      "['Aedes', 'Culex', 'Background', 'Others']\n"
     ]
    }
   ],
   "source": [
    "index = 0\n",
    "changedLabel = labels\n",
    "var = labels[0]\n",
    "changedLabel.pop(0)\n",
    "changedLabel.append(var)\n",
    "print(changedLabel)"
   ]
  },
  {
   "cell_type": "code",
   "execution_count": null,
   "metadata": {},
   "outputs": [
    {
     "name": "stdout",
     "output_type": "stream",
     "text": [
      "Ciclo-Aedes-aegypti-1-1024x673jpg.png\n",
      "[9.9976093e-01 3.2213356e-06 2.0266812e-05 2.1561146e-04]\n",
      "É: 0\n",
      "Acusa: 0\n",
      "É: Aedes\n",
      "Acusa: Aedes\n",
      "0 0\n",
      "\n",
      "\n",
      "IMG_20180506_105703869_BURST012.jpg\n",
      "[9.9989402e-01 2.8267821e-05 8.0884682e-08 7.7617944e-05]\n",
      "É: 0\n",
      "Acusa: 0\n",
      "É: Aedes\n",
      "Acusa: Aedes\n",
      "0 0\n",
      "\n",
      "\n",
      "20180506_121130.jpg\n",
      "[7.8448486e-01 2.0432146e-04 2.7410746e-05 2.1528341e-01]\n",
      "É: 0\n",
      "Acusa: 0\n",
      "É: Aedes\n",
      "Acusa: Aedes\n",
      "0 0\n",
      "\n",
      "\n",
      "3b81d27a90462641ef0503d905c6aa87jpg.png\n",
      "[9.9994981e-01 2.0177664e-08 3.0086342e-10 5.0178212e-05]\n",
      "É: 0\n",
      "Acusa: 0\n",
      "É: Aedes\n",
      "Acusa: Aedes\n",
      "0 0\n",
      "\n",
      "\n",
      "20180506_120942.jpg\n",
      "[9.8015666e-01 2.1060082e-04 5.9674323e-05 1.9573027e-02]\n",
      "É: 0\n",
      "Acusa: 0\n",
      "É: Aedes\n",
      "Acusa: Aedes\n",
      "0 0\n",
      "\n",
      "\n",
      "depositphotos_97504540-stock-illustration-nature-aedes-aegypti-mosquito-stiltjpg.png\n",
      "[9.9328703e-01 2.0665127e-06 4.0974744e-08 6.7108665e-03]\n",
      "É: 0\n",
      "Acusa: 0\n",
      "É: Aedes\n",
      "Acusa: Aedes\n",
      "0 0\n",
      "\n",
      "\n",
      "mayaro-e-mais-um-virus-transmitido-pelo-aedes-aegypti_965503jpg.png\n",
      "[9.9997282e-01 2.0545283e-08 1.6791809e-06 2.5501868e-05]\n",
      "É: 0\n",
      "Acusa: 0\n",
      "É: Aedes\n",
      "Acusa: Aedes\n",
      "0 0\n",
      "\n",
      "\n",
      "drawn-insect-dengue-mosquito-11jpg.png\n",
      "[9.9999952e-01 1.6012382e-11 1.9201449e-11 4.2371116e-07]\n",
      "É: 0\n",
      "Acusa: 0\n",
      "É: Aedes\n",
      "Acusa: Aedes\n",
      "0 0\n",
      "\n",
      "\n",
      "Aedes_aegypti-e1490380478160jpg.png\n",
      "[9.8783875e-01 6.5414794e-09 4.3090984e-09 1.2161225e-02]\n",
      "É: 0\n",
      "Acusa: 0\n",
      "É: Aedes\n",
      "Acusa: Aedes\n",
      "0 0\n",
      "\n",
      "\n",
      "Lab-of-entomology-mosquitojpg.png\n",
      "[9.9981910e-01 1.4803736e-07 1.2124335e-05 1.6866870e-04]\n",
      "É: 0\n",
      "Acusa: 0\n",
      "É: Aedes\n",
      "Acusa: Aedes\n",
      "0 0\n",
      "\n",
      "\n",
      "P_20180618_155314.jpg\n",
      "[9.9984241e-01 7.0207840e-10 3.2819912e-08 1.5755022e-04]\n",
      "É: 0\n",
      "Acusa: 0\n",
      "É: Aedes\n",
      "Acusa: Aedes\n",
      "0 0\n",
      "\n",
      "\n",
      "IMG_20180521_164514.jpg\n",
      "[1.10572875e-01 9.75178336e-05 8.86495411e-01 2.83422810e-03]\n",
      "É: 1\n",
      "Acusa: 2\n",
      "É: Culex\n",
      "Acusa: Culex\n",
      "1 2\n",
      "\n",
      "\n",
      "IMG_20180521_165643.jpg\n",
      "[2.4541372e-03 1.1239502e-05 9.9739623e-01 1.3832480e-04]\n",
      "É: 1\n",
      "Acusa: 2\n",
      "É: Culex\n",
      "Acusa: Culex\n",
      "1 2\n",
      "\n",
      "\n",
      "IMG_20180504_185215613.jpg\n",
      "[5.215524e-12 6.693899e-13 1.000000e+00 8.645799e-12]\n",
      "É: 1\n",
      "Acusa: 2\n",
      "É: Culex\n",
      "Acusa: Culex\n",
      "1 2\n",
      "\n",
      "\n",
      "P_20180504_190403_059.jpg\n",
      "[5.7987722e-06 5.2091959e-08 9.9999321e-01 9.5923281e-07]\n",
      "É: 1\n",
      "Acusa: 2\n",
      "É: Culex\n",
      "Acusa: Culex\n",
      "1 2\n",
      "\n",
      "\n",
      "P_20180504_190319_052.jpg\n",
      "[2.6182319e-08 8.2338765e-08 9.9999988e-01 4.2418309e-09]\n",
      "É: 1\n",
      "Acusa: 2\n",
      "É: Culex\n",
      "Acusa: Culex\n",
      "1 2\n",
      "\n",
      "\n",
      "IMG_20180504_185041094.jpg\n",
      "[5.3113064e-05 2.8566799e-06 9.9972492e-01 2.1904722e-04]\n",
      "É: 1\n",
      "Acusa: 2\n",
      "É: Culex\n",
      "Acusa: Culex\n",
      "1 2\n",
      "\n",
      "\n",
      "culex122.jpg\n",
      "[1.1240180e-01 9.5428416e-04 8.8632929e-01 3.1453921e-04]\n",
      "É: 1\n",
      "Acusa: 2\n",
      "É: Culex\n",
      "Acusa: Culex\n",
      "1 2\n",
      "\n",
      "\n",
      "IMG_20180521_171636_01.jpg\n",
      "[6.0108805e-04 1.1528150e-06 9.9932396e-01 7.3810566e-05]\n",
      "É: 1\n",
      "Acusa: 2\n",
      "É: Culex\n",
      "Acusa: Culex\n",
      "1 2\n",
      "\n",
      "\n",
      "P_20180504_190319_016.jpg\n",
      "[2.7968395e-06 5.1449156e-06 9.9998200e-01 1.0133148e-05]\n",
      "É: 1\n",
      "Acusa: 2\n",
      "É: Culex\n",
      "Acusa: Culex\n",
      "1 2\n",
      "\n",
      "\n",
      "culex74.jpg\n",
      "[9.218426e-01 1.372478e-04 7.536055e-02 2.659635e-03]\n",
      "É: 1\n",
      "Acusa: 0\n",
      "É: Culex\n",
      "Acusa: Aedes\n",
      "1 0\n",
      "\n",
      "\n",
      "background5.jpeg\n"
     ]
    }
   ],
   "source": [
    "matrix = np.zeros((len(labels), len(labels)))\n",
    "for n in changedLabel:\n",
    "    for x in os.listdir(\"./\"+ n):\n",
    "        print(x)\n",
    "        image = cv2.imread(n+'/'+x)\n",
    "        output = image.copy()\n",
    "\n",
    "        # pre-process the image for classification\n",
    "        image = cv2.resize(image, (96, 96))\n",
    "        image = image.astype(\"float\") / 255.0\n",
    "        image = img_to_array(image)\n",
    "        image = np.expand_dims(image, axis=0)\n",
    "        proba = model.predict(image)[0]\n",
    "        print(proba)\n",
    "        idx = np.argmax(proba)\n",
    "        print(\"É: \" + str(index))\n",
    "        print(\"Acusa: \" + str(idx))\n",
    "        label = lb.classes_[idx]\n",
    "        print(\"É: \" + str(changedLabel[index]))\n",
    "        print(\"Acusa: \" + str(label))\n",
    "        print(str(index)+\" \"+str(idx))\n",
    "        print('\\n')\n",
    "        \n",
    "        matrix[index][idx] += 1\n",
    "    index += 1"
   ]
  },
  {
   "cell_type": "markdown",
   "metadata": {},
   "source": [
    "No eixo X temos o que o objeto é e no eixo Y temos a predição dele"
   ]
  },
  {
   "cell_type": "code",
   "execution_count": 7,
   "metadata": {},
   "outputs": [
    {
     "data": {
      "text/plain": [
       "<matplotlib.axes._subplots.AxesSubplot at 0x7faca2664358>"
      ]
     },
     "execution_count": 7,
     "metadata": {},
     "output_type": "execute_result"
    },
    {
     "data": {
      "image/png": "[encoded data removed]",
      "text/plain": [
       "<Figure size 432x288 with 2 Axes>"
      ]
     },
     "metadata": {},
     "output_type": "display_data"
    }
   ],
   "source": [
    "import seaborn as sn\n",
    "import pandas as pd\n",
    "import matplotlib.pyplot as plt\n",
    "   \n",
    "df_cm = pd.DataFrame(matrix, changedLabel,\n",
    "                  changedLabel)\n",
    "#plt.figure(figsize = (10,7))\n",
    "sn.set(font_scale=1.4)#for label size\n",
    "sn.heatmap(df_cm, annot=True,annot_kws={\"size\": 16})# font size"
   ]
  },
  {
   "cell_type": "code",
   "execution_count": 7,
   "metadata": {},
   "outputs": [
    {
     "name": "stdout",
     "output_type": "stream",
     "text": [
      "[[11.  0.  0.  0.]\n",
      " [ 1.  0.  9.  0.]\n",
      " [ 0. 10.  0.  0.]\n",
      " [ 0.  0.  0. 10.]]\n"
     ]
    }
   ],
   "source": [
    "print(matrix)"
   ]
  },
  {
   "cell_type": "code",
   "execution_count": 8,
   "metadata": {
    "scrolled": true
   },
   "outputs": [],
   "source": [
    "percmatrix = matrix\n",
    "index2=0\n",
    "for n in percmatrix:\n",
    "    lendirectory = len(os.listdir(\"./\"+changedLabel[index2]))\n",
    "    line=0\n",
    "    for m in n:\n",
    "        percmatrix[index2][line] = (float(m)/float(lendirectory))\n",
    "        line+=1\n",
    "    index2 += 1"
   ]
  },
  {
   "cell_type": "code",
   "execution_count": 9,
   "metadata": {},
   "outputs": [
    {
     "data": {
      "text/plain": [
       "<matplotlib.axes._subplots.AxesSubplot at 0x7efd8df2a400>"
      ]
     },
     "execution_count": 9,
     "metadata": {},
     "output_type": "execute_result"
    },
    {
     "data": {
      "image/png": "[encoded data removed]",
      "text/plain": [
       "<Figure size 432x288 with 2 Axes>"
      ]
     },
     "metadata": {},
     "output_type": "display_data"
    }
   ],
   "source": [
    "dp_cm = pd.DataFrame(percmatrix, changedLabel,\n",
    "                  changedLabel)\n",
    "#plt.figure(figsize = (10,7))\n",
    "sn.set(font_scale=1.4)#for label size\n",
    "sn.heatmap(dp_cm, annot=True,annot_kws={\"size\": 16})# font size"
   ]
  },
  {
   "cell_type": "code",
   "execution_count": null,
   "metadata": {},
   "outputs": [],
   "source": []
  },
  {
   "cell_type": "code",
   "execution_count": null,
   "metadata": {},
   "outputs": [],
   "source": []
  }
 ],
 "metadata": {
  "kernelspec": {
   "display_name": "Python 3",
   "language": "python",
   "name": "python3"
  },
  "language_info": {
   "codemirror_mode": {
    "name": "ipython",
    "version": 3
   },
   "file_extension": ".py",
   "mimetype": "text/x-python",
   "name": "python",
   "nbconvert_exporter": "python",
   "pygments_lexer": "ipython3",
   "version": "3.5.5"
  }
 },
 "nbformat": 4,
 "nbformat_minor": 2
}
