{
 "cells": [
  {
   "cell_type": "code",
   "execution_count": 1,
   "metadata": {},
   "outputs": [],
   "source": [
    "%matplotlib inline"
   ]
  },
  {
   "cell_type": "code",
   "execution_count": 2,
   "metadata": {},
   "outputs": [
    {
     "name": "stderr",
     "output_type": "stream",
     "text": [
      "D:\\Anaconda\\envs\\tcc\\lib\\site-packages\\h5py\\__init__.py:36: FutureWarning: Conversion of the second argument of issubdtype from `float` to `np.floating` is deprecated. In future, it will be treated as `np.float64 == np.dtype(float).type`.\n",
      "  from ._conv import register_converters as _register_converters\n",
      "Using TensorFlow backend.\n"
     ]
    }
   ],
   "source": [
    "import matplotlib\n",
    "from keras.preprocessing.image import ImageDataGenerator\n",
    "from keras.optimizers import Adam\n",
    "from keras.preprocessing.image import img_to_array\n",
    "from keras import callbacks\n",
    "from sklearn.preprocessing import LabelBinarizer\n",
    "from sklearn.model_selection import train_test_split\n",
    "from pyimagesearch.smallervggnet import SmallerVGGNet\n",
    "import matplotlib.pyplot as plt\n",
    "from imutils import paths\n",
    "import numpy as np\n",
    "import argparse\n",
    "import random\n",
    "import pickle\n",
    "import cv2\n",
    "import os\n",
    "from PIL import Image\n",
    "from osgeo import gdal\n",
    "import livelossplot\n",
    "from sklearn.metrics import confusion_matrix\n",
    "import pandas as pd\n",
    "from pandas_ml import ConfusionMatrix\n",
    "import seaborn as sns\n",
    "import sklearn.metrics as metrics\n",
    "from keras.models import load_model"
   ]
  },
  {
   "cell_type": "code",
   "execution_count": 3,
   "metadata": {},
   "outputs": [],
   "source": [
    "dataset = \"clippedcrop\"\n",
    "modelName = \"cropsNet.model\"\n",
    "nameLabel = \"CropsLabels.pickle\""
   ]
  },
  {
   "cell_type": "code",
   "execution_count": 4,
   "metadata": {},
   "outputs": [],
   "source": [
    "EPOCHS = 100\n",
    "INIT_LR = 1e-3\n",
    "BS = 8\n",
    "IMAGE_DIMS = (7, 55, 55)"
   ]
  },
  {
   "cell_type": "code",
   "execution_count": 5,
   "metadata": {},
   "outputs": [],
   "source": [
    "data = []\n",
    "labels = []"
   ]
  },
  {
   "cell_type": "code",
   "execution_count": 6,
   "metadata": {},
   "outputs": [],
   "source": [
    "imagePaths = sorted(list(paths.list_images(dataset)))\n",
    "random.seed(42)\n",
    "random.shuffle(imagePaths)"
   ]
  },
  {
   "cell_type": "code",
   "execution_count": 7,
   "metadata": {},
   "outputs": [
    {
     "name": "stdout",
     "output_type": "stream",
     "text": [
      "clippedcrop\\Corn\\corn2.tif\n",
      "clippedcrop\\Orange\\orange2.tif\n",
      "clippedcrop\\Orange\\orange24.tif\n",
      "clippedcrop\\Sugarcane\\sugarcane4.tif\n",
      "clippedcrop\\Sugarcane\\sugarcane15.tif\n",
      "clippedcrop\\Sugarcane\\sugarcane18.tif\n",
      "clippedcrop\\Orange\\orange33.tif\n",
      "clippedcrop\\Orange\\orange32.tif\n",
      "clippedcrop\\Orange\\orange38.tif\n",
      "clippedcrop\\Soybean\\soybean3.tif\n",
      "clippedcrop\\Soybean\\soybean8.tif\n",
      "clippedcrop\\Soybean\\soybean10.tif\n",
      "clippedcrop\\Orange\\orange34.tif\n",
      "clippedcrop\\Orange\\orange13.tif\n",
      "clippedcrop\\Sugarcane\\sugarcane14.tif\n",
      "clippedcrop\\Sugarcane\\sugarcane19.tif\n",
      "clippedcrop\\Orange\\orange11.tif\n",
      "clippedcrop\\Soybean\\soybean9.tif\n",
      "clippedcrop\\Sugarcane\\sugarcane25.tif\n",
      "clippedcrop\\Orange\\orange55.tif\n",
      "clippedcrop\\Orange\\orange40.tif\n",
      "clippedcrop\\Orange\\orange6.tif\n",
      "clippedcrop\\Soybean\\soybean2.tif\n",
      "clippedcrop\\Orange\\orange8.tif\n",
      "clippedcrop\\Sugarcane\\sugarcane22.tif\n",
      "clippedcrop\\Sugarcane\\sugarcane11.tif\n",
      "clippedcrop\\Orange\\orange7.tif\n",
      "clippedcrop\\Soybean\\soybean11.tif\n",
      "clippedcrop\\Orange\\orange21.tif\n",
      "clippedcrop\\Sugarcane\\sugarcane8.tif\n",
      "clippedcrop\\Sugarcane\\sugarcane39.tif\n",
      "clippedcrop\\Orange\\orange49.tif\n",
      "clippedcrop\\Sugarcane\\sugarcane24.tif\n",
      "clippedcrop\\Soybean\\soybean33.tif\n",
      "clippedcrop\\Corn\\corn3.tif\n",
      "clippedcrop\\Sugarcane\\sugarcane37.tif\n",
      "clippedcrop\\Sugarcane\\sugarcane26.tif\n",
      "clippedcrop\\Sugarcane\\sugarcane13.tif\n",
      "clippedcrop\\Orange\\orange18.tif\n",
      "clippedcrop\\Soybean\\soybean18.tif\n",
      "clippedcrop\\Soybean\\soybean15.tif\n",
      "clippedcrop\\Soybean\\soybean26.tif\n",
      "clippedcrop\\Sugarcane\\sugarcane6.tif\n",
      "clippedcrop\\Soybean\\soybean28.tif\n",
      "clippedcrop\\Soybean\\soybean32.tif\n",
      "clippedcrop\\Orange\\orange36.tif\n",
      "clippedcrop\\Soybean\\soybean34.tif\n",
      "clippedcrop\\Soybean\\soybean16.tif\n",
      "clippedcrop\\Orange\\orange4.tif\n",
      "clippedcrop\\Sugarcane\\sugarcane32.tif\n",
      "clippedcrop\\Orange\\orange42.tif\n",
      "clippedcrop\\Sugarcane\\sugarcane23.tif\n",
      "clippedcrop\\Soybean\\soybean38.tif\n",
      "clippedcrop\\Orange\\orange20.tif\n",
      "clippedcrop\\Orange\\orange43.tif\n",
      "clippedcrop\\Soybean\\soybean6.tif\n",
      "clippedcrop\\Orange\\orange25.tif\n",
      "clippedcrop\\Soybean\\soybean14.tif\n",
      "clippedcrop\\Soybean\\soybean21.tif\n",
      "clippedcrop\\Orange\\orange26.tif\n",
      "clippedcrop\\Sugarcane\\sugarcane2.tif\n",
      "clippedcrop\\Orange\\orange41.tif\n",
      "clippedcrop\\Soybean\\soybean20.tif\n",
      "clippedcrop\\Sugarcane\\sugarcane38.tif\n",
      "clippedcrop\\Soybean\\soybean31.tif\n",
      "clippedcrop\\Soybean\\soybean4.tif\n",
      "clippedcrop\\Sugarcane\\sugarcane20.tif\n",
      "clippedcrop\\Soybean\\soybean37.tif\n",
      "clippedcrop\\Sugarcane\\sugarcane17.tif\n",
      "clippedcrop\\Sugarcane\\sugarcane29.tif\n",
      "clippedcrop\\Soybean\\soybean35.tif\n",
      "clippedcrop\\Orange\\orange12.tif\n",
      "clippedcrop\\Orange\\orange27.tif\n",
      "clippedcrop\\Soybean\\soybean27.tif\n",
      "clippedcrop\\Orange\\orange48.tif\n",
      "clippedcrop\\Orange\\orange39.tif\n",
      "clippedcrop\\Sugarcane\\sugarcane7.tif\n",
      "clippedcrop\\Orange\\orange14.tif\n",
      "clippedcrop\\Soybean\\soybean40.tif\n",
      "clippedcrop\\Orange\\orange19.tif\n",
      "clippedcrop\\Soybean\\soybean22.tif\n",
      "clippedcrop\\Soybean\\soybean13.tif\n",
      "clippedcrop\\Corn\\corn6.tif\n",
      "clippedcrop\\Orange\\orange35.tif\n",
      "clippedcrop\\Sugarcane\\sugarcane27.tif\n",
      "clippedcrop\\Orange\\orange46.tif\n",
      "clippedcrop\\Orange\\orange47.tif\n",
      "clippedcrop\\Orange\\orange16.tif\n",
      "clippedcrop\\Orange\\orange5.tif\n",
      "clippedcrop\\Sugarcane\\sugarcane30.tif\n",
      "clippedcrop\\Orange\\orange17.tif\n",
      "clippedcrop\\Sugarcane\\sugarcane10.tif\n",
      "clippedcrop\\Sugarcane\\sugarcane3.tif\n",
      "clippedcrop\\Orange\\orange22.tif\n",
      "clippedcrop\\Sugarcane\\sugarcane16.tif\n",
      "clippedcrop\\Orange\\orange44.tif\n",
      "clippedcrop\\Sugarcane\\sugarcane33.tif\n",
      "clippedcrop\\Sugarcane\\sugarcane21.tif\n",
      "clippedcrop\\Orange\\orange23.tif\n",
      "clippedcrop\\Sugarcane\\sugarcane12.tif\n",
      "clippedcrop\\Corn\\corn1.tif\n",
      "clippedcrop\\Sugarcane\\sugarcane40.tif\n",
      "clippedcrop\\Sugarcane\\sugarcane34.tif\n",
      "clippedcrop\\Sugarcane\\sugarcane5.tif\n",
      "clippedcrop\\Sugarcane\\sugarcane9.tif\n",
      "clippedcrop\\Orange\\orange9.tif\n",
      "clippedcrop\\Sugarcane\\sugarcane36.tif\n",
      "clippedcrop\\Soybean\\soybean5.tif\n",
      "clippedcrop\\Soybean\\soybean36.tif\n",
      "clippedcrop\\Soybean\\soybean7.tif\n",
      "clippedcrop\\Orange\\orange28.tif\n",
      "clippedcrop\\Soybean\\soybean25.tif\n",
      "clippedcrop\\Sugarcane\\sugarcane31.tif\n",
      "clippedcrop\\Soybean\\soybean30.tif\n",
      "clippedcrop\\Soybean\\soybean19.tif\n",
      "clippedcrop\\Orange\\orange31.tif\n",
      "clippedcrop\\Orange\\orange3.tif\n",
      "clippedcrop\\Sugarcane\\sugarcane35.tif\n",
      "clippedcrop\\Corn\\corn4.tif\n",
      "clippedcrop\\Corn\\corn5.tif\n",
      "clippedcrop\\Soybean\\soybean1.tif\n",
      "clippedcrop\\Soybean\\soybean29.tif\n",
      "clippedcrop\\Orange\\orange15.tif\n",
      "clippedcrop\\Soybean\\soybean23.tif\n",
      "clippedcrop\\Sugarcane\\sugarcane28.tif\n",
      "clippedcrop\\Sugarcane\\sugarcane1.tif\n",
      "clippedcrop\\Soybean\\soybean39.tif\n",
      "clippedcrop\\Orange\\orange29.tif\n",
      "clippedcrop\\Orange\\orange37.tif\n",
      "clippedcrop\\Soybean\\soybean12.tif\n",
      "clippedcrop\\Soybean\\soybean17.tif\n",
      "clippedcrop\\Soybean\\soybean24.tif\n",
      "clippedcrop\\Orange\\orange10.tif\n",
      "clippedcrop\\Orange\\orange30.tif\n"
     ]
    }
   ],
   "source": [
    "count = 0\n",
    "for imagePath in imagePaths:\n",
    "    print(imagePath)\n",
    "    raster = gdal.Open(imagePath)\n",
    "    arr = raster.ReadAsArray()\n",
    "    [bands,cols,rows] = arr.shape\n",
    "    count += 1\n",
    "    data.append(arr)\n",
    "    label = imagePath.split(os.path.sep)[-2]\n",
    "    labels.append(label)"
   ]
  },
  {
   "cell_type": "code",
   "execution_count": 8,
   "metadata": {},
   "outputs": [
    {
     "name": "stdout",
     "output_type": "stream",
     "text": [
      "[INFO] data matrix: 22.17MB\n"
     ]
    }
   ],
   "source": [
    "data = np.array(data, dtype=\"float\") / 255.0\n",
    "labels = np.array(labels)\n",
    "print(\"[INFO] data matrix: {:.2f}MB\".format(\n",
    "\tdata.nbytes / (1024 * 1000.0)))\n",
    "\n",
    "lb = LabelBinarizer()\n",
    "labels = lb.fit_transform(labels)\n"
   ]
  },
  {
   "cell_type": "code",
   "execution_count": 9,
   "metadata": {},
   "outputs": [],
   "source": [
    "(trainX, testX, trainY, testY) = train_test_split(data,\n",
    "\tlabels, test_size=0.3, random_state=42)\n",
    "\n",
    "\n",
    "aug = ImageDataGenerator(rotation_range=25, width_shift_range=0.1,\n",
    "\theight_shift_range=0.1, shear_range=0.2, zoom_range=0.2,\n",
    "\thorizontal_flip=True, fill_mode=\"reflect\")"
   ]
  },
  {
   "cell_type": "code",
   "execution_count": 10,
   "metadata": {},
   "outputs": [
    {
     "name": "stdout",
     "output_type": "stream",
     "text": [
      "Passou aqui1\n",
      "Passou aqui2\n",
      "Passou aqui3\n",
      "Passou aqui4\n",
      "Passou aqui5\n",
      "Passou aqui6\n"
     ]
    }
   ],
   "source": [
    "model = SmallerVGGNet.build(width=IMAGE_DIMS[1], height=IMAGE_DIMS[0],\n",
    "\tdepth=IMAGE_DIMS[2], classes=len(lb.classes_))\n",
    "opt = Adam(lr=INIT_LR, decay=INIT_LR / EPOCHS)\n",
    "compile1 = model.compile(loss=\"categorical_crossentropy\", optimizer=opt,\n",
    "\tmetrics=['accuracy'])"
   ]
  },
  {
   "cell_type": "code",
   "execution_count": 11,
   "metadata": {},
   "outputs": [],
   "source": [
    "f = open(nameLabel, \"wb\")\n",
    "f.write(pickle.dumps(lb))\n",
    "f.close()"
   ]
  },
  {
   "cell_type": "code",
   "execution_count": 12,
   "metadata": {},
   "outputs": [],
   "source": [
    "check_p = callbacks.ModelCheckpoint(filepath='cropclassifier_cnn_{val_acc:.2f}.model',\n",
    "                                    monitor='val_acc', verbose=1,\n",
    "                                    save_best_only=True, save_weights_only=False)\n",
    "reduce_lr = callbacks.ReduceLROnPlateau(monitor='val_acc', factor=0.95, patience=3,\n",
    "                                        verbose=1, cooldown=2)\n",
    "callb_l = [check_p, reduce_lr]\n",
    "\n",
    "plot_losses = livelossplot.PlotLossesKeras()"
   ]
  },
  {
   "cell_type": "code",
   "execution_count": 13,
   "metadata": {},
   "outputs": [
    {
     "name": "stderr",
     "output_type": "stream",
     "text": [
      "D:\\Anaconda\\envs\\tcc\\lib\\site-packages\\keras_preprocessing\\image.py:1437: UserWarning: NumpyArrayIterator is set to use the data format convention \"channels_last\" (channels on axis 3), i.e. expected either 1, 3, or 4 channels on axis 3. However, it was passed an array with shape (93, 7, 55, 55) (55 channels).\n",
      "  str(self.x.shape[channels_axis]) + ' channels).')\n"
     ]
    },
    {
     "name": "stdout",
     "output_type": "stream",
     "text": [
      "\n",
      "Epoch 00001: val_acc improved from -inf to 0.75610, saving model to cropclassifier_cnn_0.76.model\n",
      "\n",
      "Epoch 00002: val_acc did not improve from 0.75610\n",
      "\n",
      "Epoch 00003: val_acc did not improve from 0.75610\n",
      "\n",
      "Epoch 00004: val_acc did not improve from 0.75610\n",
      "\n",
      "Epoch 00004: ReduceLROnPlateau reducing learning rate to 0.0009500000451225787.\n",
      "\n",
      "Epoch 00005: val_acc improved from 0.75610 to 0.82927, saving model to cropclassifier_cnn_0.83.model\n",
      "\n",
      "Epoch 00006: val_acc did not improve from 0.82927\n",
      "\n",
      "Epoch 00007: val_acc did not improve from 0.82927\n",
      "\n",
      "Epoch 00008: val_acc improved from 0.82927 to 0.95122, saving model to cropclassifier_cnn_0.95.model\n",
      "\n",
      "Epoch 00009: val_acc did not improve from 0.95122\n",
      "\n",
      "Epoch 00010: val_acc did not improve from 0.95122\n",
      "\n",
      "Epoch 00011: val_acc did not improve from 0.95122\n",
      "\n",
      "Epoch 00011: ReduceLROnPlateau reducing learning rate to 0.0009025000152178108.\n",
      "\n",
      "Epoch 00012: val_acc did not improve from 0.95122\n",
      "\n",
      "Epoch 00013: val_acc did not improve from 0.95122\n",
      "\n",
      "Epoch 00014: val_acc did not improve from 0.95122\n",
      "\n",
      "Epoch 00015: val_acc did not improve from 0.95122\n",
      "\n",
      "Epoch 00015: ReduceLROnPlateau reducing learning rate to 0.0008573750033974647.\n",
      "\n",
      "Epoch 00016: val_acc did not improve from 0.95122\n",
      "\n",
      "Epoch 00017: val_acc did not improve from 0.95122\n",
      "\n",
      "Epoch 00018: val_acc did not improve from 0.95122\n",
      "\n",
      "Epoch 00019: val_acc did not improve from 0.95122\n",
      "\n",
      "Epoch 00019: ReduceLROnPlateau reducing learning rate to 0.0008145062311086804.\n",
      "\n",
      "Epoch 00020: val_acc did not improve from 0.95122\n",
      "\n",
      "Epoch 00021: val_acc did not improve from 0.95122\n",
      "\n",
      "Epoch 00022: val_acc did not improve from 0.95122\n",
      "\n",
      "Epoch 00023: val_acc did not improve from 0.95122\n",
      "\n",
      "Epoch 00023: ReduceLROnPlateau reducing learning rate to 0.0007737808919046074.\n",
      "\n",
      "Epoch 00024: val_acc did not improve from 0.95122\n",
      "\n",
      "Epoch 00025: val_acc did not improve from 0.95122\n",
      "\n",
      "Epoch 00026: val_acc did not improve from 0.95122\n",
      "\n",
      "Epoch 00027: val_acc did not improve from 0.95122\n",
      "\n",
      "Epoch 00027: ReduceLROnPlateau reducing learning rate to 0.000735091819660738.\n",
      "\n",
      "Epoch 00028: val_acc did not improve from 0.95122\n",
      "\n",
      "Epoch 00029: val_acc did not improve from 0.95122\n",
      "\n",
      "Epoch 00030: val_acc did not improve from 0.95122\n",
      "\n",
      "Epoch 00031: val_acc improved from 0.95122 to 0.97561, saving model to cropclassifier_cnn_0.98.model\n",
      "\n",
      "Epoch 00032: val_acc did not improve from 0.97561\n",
      "\n",
      "Epoch 00033: val_acc did not improve from 0.97561\n",
      "\n",
      "Epoch 00034: val_acc did not improve from 0.97561\n",
      "\n",
      "Epoch 00034: ReduceLROnPlateau reducing learning rate to 0.0006983372120885178.\n",
      "\n",
      "Epoch 00035: val_acc did not improve from 0.97561\n",
      "\n",
      "Epoch 00036: val_acc did not improve from 0.97561\n",
      "\n",
      "Epoch 00037: val_acc did not improve from 0.97561\n",
      "\n",
      "Epoch 00038: val_acc did not improve from 0.97561\n",
      "\n",
      "Epoch 00038: ReduceLROnPlateau reducing learning rate to 0.0006634203542489559.\n",
      "\n",
      "Epoch 00039: val_acc did not improve from 0.97561\n",
      "\n",
      "Epoch 00040: val_acc did not improve from 0.97561\n",
      "\n",
      "Epoch 00041: val_acc did not improve from 0.97561\n",
      "\n",
      "Epoch 00042: val_acc did not improve from 0.97561\n",
      "\n",
      "Epoch 00042: ReduceLROnPlateau reducing learning rate to 0.0006302493420662358.\n",
      "\n",
      "Epoch 00043: val_acc improved from 0.97561 to 1.00000, saving model to cropclassifier_cnn_1.00.model\n",
      "\n",
      "Epoch 00044: val_acc did not improve from 1.00000\n",
      "\n",
      "Epoch 00045: val_acc did not improve from 1.00000\n",
      "\n",
      "Epoch 00046: val_acc did not improve from 1.00000\n",
      "\n",
      "Epoch 00046: ReduceLROnPlateau reducing learning rate to 0.0005987368611386045.\n",
      "\n",
      "Epoch 00047: val_acc did not improve from 1.00000\n",
      "\n",
      "Epoch 00048: val_acc did not improve from 1.00000\n",
      "\n",
      "Epoch 00049: val_acc did not improve from 1.00000\n",
      "\n",
      "Epoch 00050: val_acc did not improve from 1.00000\n",
      "\n",
      "Epoch 00050: ReduceLROnPlateau reducing learning rate to 0.0005688000208465382.\n",
      "\n",
      "Epoch 00051: val_acc did not improve from 1.00000\n",
      "\n",
      "Epoch 00052: val_acc did not improve from 1.00000\n",
      "\n",
      "Epoch 00053: val_acc did not improve from 1.00000\n",
      "\n",
      "Epoch 00054: val_acc did not improve from 1.00000\n",
      "\n",
      "Epoch 00054: ReduceLROnPlateau reducing learning rate to 0.0005403600225690752.\n",
      "\n",
      "Epoch 00055: val_acc did not improve from 1.00000\n",
      "\n",
      "Epoch 00056: val_acc did not improve from 1.00000\n",
      "\n",
      "Epoch 00057: val_acc did not improve from 1.00000\n",
      "\n",
      "Epoch 00058: val_acc did not improve from 1.00000\n",
      "\n",
      "Epoch 00058: ReduceLROnPlateau reducing learning rate to 0.0005133419937919825.\n",
      "\n",
      "Epoch 00059: val_acc did not improve from 1.00000\n",
      "\n",
      "Epoch 00060: val_acc did not improve from 1.00000\n",
      "\n",
      "Epoch 00061: val_acc did not improve from 1.00000\n",
      "\n",
      "Epoch 00062: val_acc did not improve from 1.00000\n",
      "\n",
      "Epoch 00062: ReduceLROnPlateau reducing learning rate to 0.0004876748775132.\n",
      "\n",
      "Epoch 00063: val_acc did not improve from 1.00000\n",
      "\n",
      "Epoch 00064: val_acc did not improve from 1.00000\n",
      "\n",
      "Epoch 00065: val_acc did not improve from 1.00000\n",
      "\n",
      "Epoch 00066: val_acc did not improve from 1.00000\n",
      "\n",
      "Epoch 00066: ReduceLROnPlateau reducing learning rate to 0.00046329112810781223.\n",
      "\n",
      "Epoch 00067: val_acc did not improve from 1.00000\n",
      "\n",
      "Epoch 00068: val_acc did not improve from 1.00000\n",
      "\n",
      "Epoch 00069: val_acc did not improve from 1.00000\n",
      "\n",
      "Epoch 00070: val_acc did not improve from 1.00000\n",
      "\n",
      "Epoch 00070: ReduceLROnPlateau reducing learning rate to 0.00044012657308485355.\n",
      "\n",
      "Epoch 00071: val_acc did not improve from 1.00000\n",
      "\n",
      "Epoch 00072: val_acc did not improve from 1.00000\n",
      "\n",
      "Epoch 00073: val_acc did not improve from 1.00000\n",
      "\n",
      "Epoch 00074: val_acc did not improve from 1.00000\n",
      "\n",
      "Epoch 00074: ReduceLROnPlateau reducing learning rate to 0.00041812024719547477.\n",
      "\n",
      "Epoch 00075: val_acc did not improve from 1.00000\n",
      "\n",
      "Epoch 00076: val_acc did not improve from 1.00000\n",
      "\n",
      "Epoch 00077: val_acc did not improve from 1.00000\n",
      "\n",
      "Epoch 00078: val_acc did not improve from 1.00000\n",
      "\n",
      "Epoch 00078: ReduceLROnPlateau reducing learning rate to 0.00039721422654110934.\n",
      "\n",
      "Epoch 00079: val_acc did not improve from 1.00000\n",
      "\n",
      "Epoch 00080: val_acc did not improve from 1.00000\n",
      "\n",
      "Epoch 00081: val_acc did not improve from 1.00000\n",
      "\n",
      "Epoch 00082: val_acc did not improve from 1.00000\n",
      "\n",
      "Epoch 00082: ReduceLROnPlateau reducing learning rate to 0.00037735351797891776.\n",
      "\n",
      "Epoch 00083: val_acc did not improve from 1.00000\n",
      "\n",
      "Epoch 00084: val_acc did not improve from 1.00000\n",
      "\n",
      "Epoch 00085: val_acc did not improve from 1.00000\n",
      "\n",
      "Epoch 00086: val_acc did not improve from 1.00000\n",
      "\n",
      "Epoch 00086: ReduceLROnPlateau reducing learning rate to 0.00035848583793267607.\n",
      "\n",
      "Epoch 00087: val_acc did not improve from 1.00000\n",
      "\n",
      "Epoch 00088: val_acc did not improve from 1.00000\n",
      "\n",
      "Epoch 00089: val_acc did not improve from 1.00000\n",
      "\n",
      "Epoch 00090: val_acc did not improve from 1.00000\n",
      "\n",
      "Epoch 00090: ReduceLROnPlateau reducing learning rate to 0.00034056155709549785.\n",
      "\n",
      "Epoch 00091: val_acc did not improve from 1.00000\n",
      "\n",
      "Epoch 00092: val_acc did not improve from 1.00000\n",
      "\n",
      "Epoch 00093: val_acc did not improve from 1.00000\n",
      "\n",
      "Epoch 00094: val_acc did not improve from 1.00000\n",
      "\n",
      "Epoch 00094: ReduceLROnPlateau reducing learning rate to 0.00032353347924072293.\n",
      "\n",
      "Epoch 00095: val_acc did not improve from 1.00000\n",
      "\n",
      "Epoch 00096: val_acc did not improve from 1.00000\n",
      "\n",
      "Epoch 00097: val_acc did not improve from 1.00000\n",
      "\n",
      "Epoch 00098: val_acc did not improve from 1.00000\n",
      "\n",
      "Epoch 00098: ReduceLROnPlateau reducing learning rate to 0.00030735681357327847.\n",
      "\n",
      "Epoch 00099: val_acc did not improve from 1.00000\n",
      "\n",
      "Epoch 00100: val_acc did not improve from 1.00000\n"
     ]
    },
    {
     "data": {
      "text/plain": [
       "<keras.callbacks.History at 0x206f96b4eb8>"
      ]
     },
     "execution_count": 13,
     "metadata": {},
     "output_type": "execute_result"
    }
   ],
   "source": [
    "model.fit_generator(\n",
    "\taug.flow(trainX, trainY, batch_size=BS),\n",
    "\tvalidation_data=(testX, testY),\n",
    "\tsteps_per_epoch=len(trainX) // BS,\n",
    "    callbacks = callb_l,\n",
    "\tepochs=EPOCHS, verbose=0)"
   ]
  },
  {
   "cell_type": "code",
   "execution_count": 14,
   "metadata": {},
   "outputs": [],
   "source": [
    "model.save(filepath=r'cropclassifier_cnn.h5', overwrite=True)"
   ]
  },
  {
   "cell_type": "code",
   "execution_count": 15,
   "metadata": {},
   "outputs": [],
   "source": [
    "model.save(modelName)"
   ]
  },
  {
   "cell_type": "code",
   "execution_count": null,
   "metadata": {},
   "outputs": [],
   "source": [
    "bestmodel = load_model(\"cropclassifier_cnn_1.00.model\")"
   ]
  },
  {
   "cell_type": "code",
   "execution_count": 16,
   "metadata": {},
   "outputs": [],
   "source": [
    "y_pred = bestmodel.predict(testX)"
   ]
  },
  {
   "cell_type": "code",
   "execution_count": 17,
   "metadata": {},
   "outputs": [],
   "source": [
    "y_pred = (y_pred > 0.5)"
   ]
  },
  {
   "cell_type": "code",
   "execution_count": 18,
   "metadata": {},
   "outputs": [],
   "source": [
    "matrix = metrics.confusion_matrix(testY.argmax(axis=1), y_pred.argmax(axis=1))"
   ]
  },
  {
   "cell_type": "code",
   "execution_count": 19,
   "metadata": {},
   "outputs": [],
   "source": [
    "CropLabels = list()\n",
    "for label in lb.classes_:\n",
    "    CropLabels.append(label)"
   ]
  },
  {
   "cell_type": "code",
   "execution_count": 20,
   "metadata": {},
   "outputs": [
    {
     "data": {
      "text/plain": [
       "<matplotlib.axes._subplots.AxesSubplot at 0x206490ecb70>"
      ]
     },
     "execution_count": 20,
     "metadata": {},
     "output_type": "execute_result"
    },
    {
     "data": {
      "image/png": "[encoded data removed]",
      "text/plain": [
       "<Figure size 432x288 with 2 Axes>"
      ]
     },
     "metadata": {},
     "output_type": "display_data"
    }
   ],
   "source": [
    "df_cm = pd.DataFrame(matrix, CropLabels,CropLabels)\n",
    "#plt.figure(figsize = (10,7))\n",
    "sns.set(font_scale=1.0)#for label size\n",
    "sns.heatmap(df_cm, annot=True,annot_kws={\"size\": 16})# font size"
   ]
  },
  {
   "cell_type": "code",
   "execution_count": null,
   "metadata": {},
   "outputs": [],
   "source": []
  }
 ],
 "metadata": {
  "kernelspec": {
   "display_name": "Python 3",
   "language": "python",
   "name": "python3"
  },
  "language_info": {
   "codemirror_mode": {
    "name": "ipython",
    "version": 3
   },
   "file_extension": ".py",
   "mimetype": "text/x-python",
   "name": "python",
   "nbconvert_exporter": "python",
   "pygments_lexer": "ipython3",
   "version": "3.6.6"
  }
 },
 "nbformat": 4,
 "nbformat_minor": 2
}
